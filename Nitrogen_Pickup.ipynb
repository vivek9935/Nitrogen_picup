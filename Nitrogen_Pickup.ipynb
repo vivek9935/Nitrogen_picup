{
 "cells": [
  {
   "cell_type": "code",
   "execution_count": null,
   "id": "ea03153d",
   "metadata": {},
   "outputs": [],
   "source": []
  }
 ],
 "metadata": {
  "kernelspec": {
   "display_name": "ML_Nitrogen_Pickup",
   "language": "python",
   "name": "python3"
  },
  "language_info": {
   "name": "python",
   "version": "3.12.9"
  }
 },
 "nbformat": 4,
 "nbformat_minor": 5
}
